{
  "nbformat": 4,
  "nbformat_minor": 0,
  "metadata": {
    "colab": {
      "name": "M4st3r_pr0gr4m.ipynb",
      "provenance": []
    },
    "kernelspec": {
      "name": "python3",
      "display_name": "Python 3"
    }
  },
  "cells": [
    {
      "cell_type": "markdown",
      "metadata": {
        "id": "H-TfSzAGzM9_",
        "colab_type": "text"
      },
      "source": [
        "#### Greetings\n"
      ]
    },
    {
      "cell_type": "code",
      "metadata": {
        "id": "nilnLxjbv5mN",
        "colab_type": "code",
        "colab": {}
      },
      "source": [
        "def greeting_gen():\n",
        "\n",
        "  x = input(\"Enter your first name: \")\n",
        "  y = input(\"Enter your last name: \") \n",
        "\n",
        "  print(\"Nice to meet you, \" + x + \" \"+ y)\n",
        "\n"
      ],
      "execution_count": 0,
      "outputs": []
    },
    {
      "cell_type": "code",
      "metadata": {
        "id": "06T4pU2L3ysU",
        "colab_type": "code",
        "colab": {}
      },
      "source": [
        "greeting_gen()"
      ],
      "execution_count": 0,
      "outputs": []
    },
    {
      "cell_type": "markdown",
      "metadata": {
        "id": "qeJCM3nw38Mp",
        "colab_type": "text"
      },
      "source": [
        "#### Age Calculator"
      ]
    },
    {
      "cell_type": "code",
      "metadata": {
        "id": "8mzWrmiA4I4m",
        "colab_type": "code",
        "colab": {}
      },
      "source": [
        "def age_calc():\n",
        "\n",
        "  a = int(input(\"Enter current year: \"))\n",
        "  b = int(input(\"Enter your birth year: \"))\n",
        "\n",
        "  c = a - b\n",
        "\n",
        "  print(\"Your current age is \", + c)"
      ],
      "execution_count": 0,
      "outputs": []
    },
    {
      "cell_type": "code",
      "metadata": {
        "id": "Wu2hD5xK47-_",
        "colab_type": "code",
        "colab": {}
      },
      "source": [
        "age_calc()"
      ],
      "execution_count": 0,
      "outputs": []
    },
    {
      "cell_type": "markdown",
      "metadata": {
        "id": "lzFYFXjo5KlR",
        "colab_type": "text"
      },
      "source": [
        ""
      ]
    },
    {
      "cell_type": "markdown",
      "metadata": {
        "id": "eEgJc3MZ9u0z",
        "colab_type": "text"
      },
      "source": [
        ""
      ]
    }
  ]
}